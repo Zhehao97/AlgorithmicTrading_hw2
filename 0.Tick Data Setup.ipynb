{
 "cells": [
  {
   "cell_type": "markdown",
   "metadata": {},
   "source": [
    "# Tick Data Setup\n",
    "_Version 1.0_"
   ]
  },
  {
   "cell_type": "code",
   "execution_count": 81,
   "metadata": {},
   "outputs": [],
   "source": [
    "%matplotlib inline\n",
    "\n",
    "import matplotlib\n",
    "import matplotlib.pyplot as plt\n",
    "import pandas as pd\n",
    "\n",
    "# load our helper functios\n",
    "%run simtools.py\n",
    "\n",
    "matplotlib.rcParams[ 'figure.figsize' ] = ( 16, 9 )"
   ]
  },
  {
   "cell_type": "markdown",
   "metadata": {},
   "source": [
    "### Load and Normalize Data"
   ]
  },
  {
   "cell_type": "code",
   "execution_count": 142,
   "metadata": {},
   "outputs": [],
   "source": [
    "# set up some variables\n",
    "quote_file = 'SBUX-quotes-aug15.zip'\n",
    "trade_file = 'SBUX-trades-aug15.zip'\n",
    "#test_day = '2019-09-03'"
   ]
  },
  {
   "cell_type": "code",
   "execution_count": 143,
   "metadata": {},
   "outputs": [
    {
     "name": "stdout",
     "output_type": "stream",
     "text": [
      "2019-11-01 01:07:20:330737: load trades\n",
      "2019-11-01 01:07:20:421747: load complete\n",
      "2019-11-01 01:07:20:421844: indexing trades\n",
      "2019-11-01 01:07:20:665916: index trades done\n"
     ]
    }
   ],
   "source": [
    "# call load trades\n",
    "trades = loadtradefile(trade_file)"
   ]
  },
  {
   "cell_type": "code",
   "execution_count": 144,
   "metadata": {},
   "outputs": [
    {
     "name": "stdout",
     "output_type": "stream",
     "text": [
      "2019-11-01 01:07:21:691637: load quotes\n",
      "2019-11-01 01:07:24:245029: load complete\n",
      "2019-11-01 01:07:24:245150: indexing quotes\n",
      "2019-11-01 01:07:29:669430: index quotes done\n"
     ]
    }
   ],
   "source": [
    "# call load quotes\n",
    "quotes = loadquotefile(quote_file)"
   ]
  },
  {
   "cell_type": "code",
   "execution_count": 145,
   "metadata": {},
   "outputs": [
    {
     "data": {
      "text/html": [
       "<div>\n",
       "<style scoped>\n",
       "    .dataframe tbody tr th:only-of-type {\n",
       "        vertical-align: middle;\n",
       "    }\n",
       "\n",
       "    .dataframe tbody tr th {\n",
       "        vertical-align: top;\n",
       "    }\n",
       "\n",
       "    .dataframe thead th {\n",
       "        text-align: right;\n",
       "    }\n",
       "</style>\n",
       "<table border=\"1\" class=\"dataframe\">\n",
       "  <thead>\n",
       "    <tr style=\"text-align: right;\">\n",
       "      <th></th>\n",
       "      <th>exch</th>\n",
       "      <th>bid_px</th>\n",
       "      <th>bid_size</th>\n",
       "      <th>ask_px</th>\n",
       "      <th>ask_size</th>\n",
       "      <th>qu_cond</th>\n",
       "      <th>qu_seqnum</th>\n",
       "      <th>natbbo_ind</th>\n",
       "      <th>qu_cancel</th>\n",
       "      <th>qu_source</th>\n",
       "      <th>symbol</th>\n",
       "      <th>suffix</th>\n",
       "    </tr>\n",
       "  </thead>\n",
       "  <tbody>\n",
       "    <tr>\n",
       "      <th>2019-08-15 09:30:00.054593498</th>\n",
       "      <td>X</td>\n",
       "      <td>95.06</td>\n",
       "      <td>2</td>\n",
       "      <td>100.36</td>\n",
       "      <td>1</td>\n",
       "      <td>R</td>\n",
       "      <td>1676256</td>\n",
       "      <td>0</td>\n",
       "      <td>NaN</td>\n",
       "      <td>N</td>\n",
       "      <td>SBUX</td>\n",
       "      <td>NaN</td>\n",
       "    </tr>\n",
       "    <tr>\n",
       "      <th>2019-08-15 09:30:00.054620216</th>\n",
       "      <td>B</td>\n",
       "      <td>95.06</td>\n",
       "      <td>2</td>\n",
       "      <td>100.36</td>\n",
       "      <td>1</td>\n",
       "      <td>R</td>\n",
       "      <td>1676257</td>\n",
       "      <td>0</td>\n",
       "      <td>NaN</td>\n",
       "      <td>N</td>\n",
       "      <td>SBUX</td>\n",
       "      <td>NaN</td>\n",
       "    </tr>\n",
       "    <tr>\n",
       "      <th>2019-08-15 09:30:00.054844197</th>\n",
       "      <td>Q</td>\n",
       "      <td>95.06</td>\n",
       "      <td>3</td>\n",
       "      <td>95.59</td>\n",
       "      <td>2</td>\n",
       "      <td>R</td>\n",
       "      <td>1676268</td>\n",
       "      <td>4</td>\n",
       "      <td>NaN</td>\n",
       "      <td>N</td>\n",
       "      <td>SBUX</td>\n",
       "      <td>NaN</td>\n",
       "    </tr>\n",
       "    <tr>\n",
       "      <th>2019-08-15 09:30:00.055352280</th>\n",
       "      <td>N</td>\n",
       "      <td>95.06</td>\n",
       "      <td>2</td>\n",
       "      <td>100.36</td>\n",
       "      <td>1</td>\n",
       "      <td>R</td>\n",
       "      <td>1676282</td>\n",
       "      <td>0</td>\n",
       "      <td>NaN</td>\n",
       "      <td>N</td>\n",
       "      <td>SBUX</td>\n",
       "      <td>NaN</td>\n",
       "    </tr>\n",
       "    <tr>\n",
       "      <th>2019-08-15 09:30:00.055372705</th>\n",
       "      <td>C</td>\n",
       "      <td>90.31</td>\n",
       "      <td>1</td>\n",
       "      <td>0.00</td>\n",
       "      <td>0</td>\n",
       "      <td>R</td>\n",
       "      <td>1676283</td>\n",
       "      <td>0</td>\n",
       "      <td>NaN</td>\n",
       "      <td>N</td>\n",
       "      <td>SBUX</td>\n",
       "      <td>NaN</td>\n",
       "    </tr>\n",
       "  </tbody>\n",
       "</table>\n",
       "</div>"
      ],
      "text/plain": [
       "                              exch  bid_px  bid_size  ask_px  ask_size  \\\n",
       "2019-08-15 09:30:00.054593498    X   95.06         2  100.36         1   \n",
       "2019-08-15 09:30:00.054620216    B   95.06         2  100.36         1   \n",
       "2019-08-15 09:30:00.054844197    Q   95.06         3   95.59         2   \n",
       "2019-08-15 09:30:00.055352280    N   95.06         2  100.36         1   \n",
       "2019-08-15 09:30:00.055372705    C   90.31         1    0.00         0   \n",
       "\n",
       "                              qu_cond  qu_seqnum  natbbo_ind  qu_cancel  \\\n",
       "2019-08-15 09:30:00.054593498       R    1676256           0        NaN   \n",
       "2019-08-15 09:30:00.054620216       R    1676257           0        NaN   \n",
       "2019-08-15 09:30:00.054844197       R    1676268           4        NaN   \n",
       "2019-08-15 09:30:00.055352280       R    1676282           0        NaN   \n",
       "2019-08-15 09:30:00.055372705       R    1676283           0        NaN   \n",
       "\n",
       "                              qu_source symbol  suffix  \n",
       "2019-08-15 09:30:00.054593498         N   SBUX     NaN  \n",
       "2019-08-15 09:30:00.054620216         N   SBUX     NaN  \n",
       "2019-08-15 09:30:00.054844197         N   SBUX     NaN  \n",
       "2019-08-15 09:30:00.055352280         N   SBUX     NaN  \n",
       "2019-08-15 09:30:00.055372705         N   SBUX     NaN  "
      ]
     },
     "execution_count": 145,
     "metadata": {},
     "output_type": "execute_result"
    }
   ],
   "source": [
    "quotes.head()"
   ]
  },
  {
   "cell_type": "code",
   "execution_count": 146,
   "metadata": {},
   "outputs": [
    {
     "name": "stdout",
     "output_type": "stream",
     "text": [
      "2019-11-01 01:07:32:074445: start merge\n",
      "2019-11-01 01:07:32:723636: end merge\n"
     ]
    }
   ],
   "source": [
    "# merge the files\n",
    "taq = makeTAQfile(trades, quotes)"
   ]
  },
  {
   "cell_type": "code",
   "execution_count": null,
   "metadata": {},
   "outputs": [],
   "source": []
  },
  {
   "cell_type": "code",
   "execution_count": 147,
   "metadata": {},
   "outputs": [],
   "source": [
    "# save the file\n",
    "taq.to_pickle('SBUX-TAQ-0815.zip')"
   ]
  },
  {
   "cell_type": "code",
   "execution_count": null,
   "metadata": {},
   "outputs": [],
   "source": []
  }
 ],
 "metadata": {
  "kernelspec": {
   "display_name": "Python 3",
   "language": "python",
   "name": "python3"
  },
  "language_info": {
   "codemirror_mode": {
    "name": "ipython",
    "version": 3
   },
   "file_extension": ".py",
   "mimetype": "text/x-python",
   "name": "python",
   "nbconvert_exporter": "python",
   "pygments_lexer": "ipython3",
   "version": "3.7.3"
  }
 },
 "nbformat": 4,
 "nbformat_minor": 4
}

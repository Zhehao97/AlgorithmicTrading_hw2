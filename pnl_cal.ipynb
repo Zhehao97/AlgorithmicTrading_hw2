{
 "cells": [
  {
   "cell_type": "code",
   "execution_count": null,
   "metadata": {},
   "outputs": [],
   "source": [
    "import pandas as pd"
   ]
  },
  {
   "cell_type": "code",
   "execution_count": 83,
   "metadata": {},
   "outputs": [],
   "source": [
    "def trade_statistics(real_pnl,position,ave_price,order_side,order_quant,trade_price,market_price):\n",
    "       \n",
    "    if order_side == 'b':\n",
    "        flag=1\n",
    "    if order_side == 's':\n",
    "        flag=-1\n",
    "        \n",
    "    new_position=position+flag*order_quant\n",
    "\n",
    "    # sign of position not change (short still short, long still long)\n",
    "    if position*new_position>0:\n",
    "        \n",
    "        # position decrease\n",
    "        if abs(new_position)<abs(position):\n",
    "            real_pnl += order_quant*(trade_price-ave_price)\n",
    "            unreal_pnl=new_position*(market_price-ave_price)\n",
    "        #position increase\n",
    "        else:\n",
    "            ave_price=(position*ave_price+flag*order_quant*trade_price)/new_position\n",
    "            unreal_pnl=new_position*(market_price-ave_price)\n",
    "        \n",
    "    # flat position  \n",
    "    elif new_position == 0:\n",
    "        real_pnl += position*(trade_price-ave_price)\n",
    "        ave_price = 0\n",
    "        unreal_pnl = 0\n",
    "        \n",
    "    # reverse position \n",
    "    else: \n",
    "        real_pnl += position*(trade_price-ave_price)\n",
    "        ave_price = trade_price\n",
    "        unreal_pnl = new_position*(market_price-ave_price)\n",
    "\n",
    "    position=new_position\n",
    "\n",
    "    return unreal_pnl,real_pnl,position,ave_price\n"
   ]
  },
  {
   "cell_type": "code",
   "execution_count": 84,
   "metadata": {},
   "outputs": [],
   "source": [
    "\n",
    "a=[['s',22,101,101],\n",
    "  ['b',2,4,4],\n",
    "  ['s',4,2,2]]\n"
   ]
  },
  {
   "cell_type": "code",
   "execution_count": 85,
   "metadata": {},
   "outputs": [],
   "source": [
    "trade = pd.DataFrame( columns = [ 'unreal_pnl','real_pnl','position','ave_price'], index=[i for i in range(len(a))] )"
   ]
  },
  {
   "cell_type": "code",
   "execution_count": 86,
   "metadata": {},
   "outputs": [
    {
     "data": {
      "text/html": [
       "<div>\n",
       "<style scoped>\n",
       "    .dataframe tbody tr th:only-of-type {\n",
       "        vertical-align: middle;\n",
       "    }\n",
       "\n",
       "    .dataframe tbody tr th {\n",
       "        vertical-align: top;\n",
       "    }\n",
       "\n",
       "    .dataframe thead th {\n",
       "        text-align: right;\n",
       "    }\n",
       "</style>\n",
       "<table border=\"1\" class=\"dataframe\">\n",
       "  <thead>\n",
       "    <tr style=\"text-align: right;\">\n",
       "      <th></th>\n",
       "      <th>unreal_pnl</th>\n",
       "      <th>real_pnl</th>\n",
       "      <th>position</th>\n",
       "      <th>ave_price</th>\n",
       "    </tr>\n",
       "  </thead>\n",
       "  <tbody>\n",
       "    <tr>\n",
       "      <th>0</th>\n",
       "      <td>0</td>\n",
       "      <td>56</td>\n",
       "      <td>-3</td>\n",
       "      <td>101</td>\n",
       "    </tr>\n",
       "    <tr>\n",
       "      <th>1</th>\n",
       "      <td>97</td>\n",
       "      <td>-138</td>\n",
       "      <td>-1</td>\n",
       "      <td>101</td>\n",
       "    </tr>\n",
       "    <tr>\n",
       "      <th>2</th>\n",
       "      <td>99</td>\n",
       "      <td>-138</td>\n",
       "      <td>-5</td>\n",
       "      <td>21.8</td>\n",
       "    </tr>\n",
       "  </tbody>\n",
       "</table>\n",
       "</div>"
      ],
      "text/plain": [
       "  unreal_pnl real_pnl position ave_price\n",
       "0          0       56       -3       101\n",
       "1         97     -138       -1       101\n",
       "2         99     -138       -5      21.8"
      ]
     },
     "execution_count": 86,
     "metadata": {},
     "output_type": "execute_result"
    }
   ],
   "source": [
    "\n",
    "real_pnl=32.249997\n",
    "position=19\n",
    "ave_price=99.75\n",
    "for i in range(len(a)):\n",
    "    [order_side,order_quant,trade_price,market_price]=a[i]\n",
    "    [unreal_pnl,real_pnl,position,ave_price]=trade_statistics(real_pnl,position,ave_price,order_side,order_quant,trade_price,market_price)\n",
    "    trade.iloc[i] = [unreal_pnl,real_pnl,position,ave_price]\n",
    "\n",
    "trade"
   ]
  },
  {
   "cell_type": "code",
   "execution_count": 90,
   "metadata": {},
   "outputs": [
    {
     "data": {
      "text/plain": [
       "0     55.999997\n",
       "1   -138.000003\n",
       "2   -138.000003\n",
       "3           NaN\n",
       "4           NaN\n",
       "5           NaN\n",
       "6           NaN\n",
       "7           NaN\n",
       "8           NaN\n",
       "9           NaN\n",
       "dtype: float64"
      ]
     },
     "execution_count": 90,
     "metadata": {},
     "output_type": "execute_result"
    }
   ],
   "source": [
    "tds.real_pnls"
   ]
  },
  {
   "cell_type": "code",
   "execution_count": 91,
   "metadata": {},
   "outputs": [],
   "source": [
    "a=[['b',3,10,9],\n",
    "   ['b',2,8,11],\n",
    "   ['s',3,12,13],\n",
    "   ['s',4,14,15],\n",
    "   ['s',3,16,17],\n",
    "   ['b',2,14,13],\n",
    "   ['b',4,12,13],\n",
    "   ['s',1,14,13]\n",
    "  ]"
   ]
  },
  {
   "cell_type": "code",
   "execution_count": 96,
   "metadata": {},
   "outputs": [],
   "source": [
    "\n",
    "index=[i for i in range(10)]\n",
    "tds=trade_statistics(index)"
   ]
  },
  {
   "cell_type": "code",
   "execution_count": 97,
   "metadata": {},
   "outputs": [
    {
     "name": "stdout",
     "output_type": "stream",
     "text": [
      "3 -3 0 10\n",
      "5 9.000000000000004 0 9.2\n",
      "2 7.600000000000001 8.400000000000002 9.2\n",
      "-2 -2 18.000000000000004 14\n",
      "-5 -9.000000000000004 18.000000000000004 15.2\n",
      "-3 6.599999999999998 15.600000000000005 15.2\n",
      "1 1 25.200000000000003 12\n",
      "0 0 27.200000000000003 0\n"
     ]
    }
   ],
   "source": [
    "for i in range(len(a)):\n",
    "    [order_side,order_quant,trade_price,market_price]=a[i]\n",
    "    tds.statistics(order_side,order_quant,trade_price,market_price)\n"
   ]
  },
  {
   "cell_type": "code",
   "execution_count": 98,
   "metadata": {},
   "outputs": [
    {
     "data": {
      "text/plain": [
       "0     0.0\n",
       "1     0.0\n",
       "2     8.4\n",
       "3    18.0\n",
       "4    18.0\n",
       "5    15.6\n",
       "6    25.2\n",
       "7    27.2\n",
       "8     NaN\n",
       "9     NaN\n",
       "dtype: float64"
      ]
     },
     "execution_count": 98,
     "metadata": {},
     "output_type": "execute_result"
    }
   ],
   "source": []
  },
  {
   "cell_type": "code",
   "execution_count": 95,
   "metadata": {},
   "outputs": [],
   "source": [
    "class trade_statistics:\n",
    "    \n",
    "    def __init__(self,t_count):\n",
    "        self.count=0\n",
    "        self.position =0\n",
    "        self.real_pnl=0\n",
    "        self.ave_price=0\n",
    "        self.real_pnls=pd.Series(index=t_count)\n",
    "        self.unreal_pnls=pd.Series(index=t_count)\n",
    "   \n",
    "    def statistics(self,order_side,order_quant,trade_price,market_price):\n",
    "    \n",
    "        if order_side == 'b':\n",
    "            flag=1\n",
    "        if order_side == 's':\n",
    "            flag=-1\n",
    "\n",
    "        new_position=self.position+flag*order_quant\n",
    "\n",
    "        # sign of position not change (short still short, long still long)\n",
    "        if self.position*new_position>0:\n",
    "\n",
    "            # position decrease\n",
    "            if abs(new_position)<abs(self.position):\n",
    "                self.real_pnl += order_quant*(trade_price-self.ave_price)\n",
    "                unreal_pnl=new_position*(market_price-self.ave_price)\n",
    "            #position increase\n",
    "            else:\n",
    "                self.ave_price=(self.position*self.ave_price+flag*order_quant*trade_price)/new_position\n",
    "                unreal_pnl=new_position*(market_price-self.ave_price)\n",
    "\n",
    "        # flat position  \n",
    "        elif new_position == 0:\n",
    "            self.real_pnl += self.position*(trade_price-self.ave_price)\n",
    "            self.ave_price = 0\n",
    "            unreal_pnl = 0\n",
    "\n",
    "        # reverse position \n",
    "        else: \n",
    "            self.real_pnl +=self.position*(trade_price-self.ave_price)\n",
    "            self.ave_price = trade_price\n",
    "            unreal_pnl = new_position*(market_price-self.ave_price)\n",
    "\n",
    "        self.position=new_position\n",
    "        self.real_pnls[self.count]=self.real_pnl\n",
    "        self.unreal_pnls[self.count]=unreal_pnl        \n",
    "        self.count+=1 \n",
    "        print(self.position,unreal_pnl,self.real_pnl,self.ave_price)\n",
    "        "
   ]
  },
  {
   "cell_type": "code",
   "execution_count": 101,
   "metadata": {},
   "outputs": [
    {
     "data": {
      "text/plain": [
       "0"
      ]
     },
     "execution_count": 101,
     "metadata": {},
     "output_type": "execute_result"
    }
   ],
   "source": [
    "import numpy as np\n",
    "np.sign(0-0)"
   ]
  },
  {
   "cell_type": "code",
   "execution_count": null,
   "metadata": {},
   "outputs": [],
   "source": []
  },
  {
   "cell_type": "code",
   "execution_count": null,
   "metadata": {},
   "outputs": [],
   "source": [
    "tds=trade_statistics(trading_day.index)\n",
    "\n",
    "if live_order :    \n",
    "    success=0\n",
    "    if ( order_side == 'b' ) and ( last_price <= live_order_price ) :  \n",
    "        success=1\n",
    "    if ( order_side == 's' ) and ( last_price >= live_order_price ) :\n",
    "        success=1\n",
    "    if success:\n",
    "        tds.statistics(order_side,live_order_price,live_order_quantity)\n",
    "        record_trade()\n",
    "        live_order = False\n",
    "        live_order_price = 0.0\n",
    "        live_order_quantity = 0.0\n",
    "\n",
    "\n",
    "if order_side == 'b' and fair_value >= ask_price:\n",
    "    trade_type='Agg'\n",
    "    new_trade_price = ask_price\n",
    "       \n",
    "elif order_side == 's' and fair_value <= bid_price:\n",
    "    trade_type='Agg'\n",
    "    new_trade_price = bid_price\n",
    "    \n",
    "else:\n",
    "    trade_type='Pas'\n",
    "    live_order_price = fair_value\n",
    "    live_order_quantity = calc_order_quantity()\n",
    "    live_order = True\n",
    "    \n",
    "if trade_type=='Agg' \n",
    "    new_order_quantity = calc_order_quantity( )        \n",
    "    tds.statistics(order_side,new_trade_price,new_order_quantity)\n",
    " \n",
    "\n",
    "    live_order_quantity = 0.0\n",
    "    live_order_price = 0.0\n",
    "    live_order = False"
   ]
  },
  {
   "cell_type": "code",
   "execution_count": null,
   "metadata": {},
   "outputs": [],
   "source": []
  },
  {
   "cell_type": "code",
   "execution_count": null,
   "metadata": {},
   "outputs": [],
   "source": []
  }
 ],
 "metadata": {
  "kernelspec": {
   "display_name": "Python 3",
   "language": "python",
   "name": "python3"
  },
  "language_info": {
   "codemirror_mode": {
    "name": "ipython",
    "version": 3
   },
   "file_extension": ".py",
   "mimetype": "text/x-python",
   "name": "python",
   "nbconvert_exporter": "python",
   "pygments_lexer": "ipython3",
   "version": "3.7.3"
  }
 },
 "nbformat": 4,
 "nbformat_minor": 2
}

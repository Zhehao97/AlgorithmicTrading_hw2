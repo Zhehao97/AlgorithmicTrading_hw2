{
 "cells": [
  {
   "cell_type": "code",
   "execution_count": null,
   "metadata": {},
   "outputs": [],
   "source": [
    "import pandas as pd"
   ]
  },
  {
   "cell_type": "code",
   "execution_count": 54,
   "metadata": {},
   "outputs": [],
   "source": [
    "def trade_statistics(real_pnl,position,ave_price,order_side,order_quant,trade_price):\n",
    "       \n",
    "    if order_side == 'b':\n",
    "        flag=1\n",
    "    if order_side == 's':\n",
    "        flag=-1\n",
    "        \n",
    "    new_position=position+flag*order_quant\n",
    "\n",
    "    # sign of position not change (short still short, long still long)\n",
    "    if position*new_position>0:\n",
    "        \n",
    "        # position decrease\n",
    "        if abs(new_position)<abs(position):\n",
    "            real_pnl += order_quant*(trade_price-ave_price)\n",
    "            unreal_pnl=new_position*(trade_price-ave_price)\n",
    "        #position increase\n",
    "        else:\n",
    "            ave_price=(position*ave_price+flag*order_quant*trade_price)/new_position\n",
    "            unreal_pnl=new_position*(trade_price-ave_price)\n",
    "        \n",
    "    # flat position  \n",
    "    elif new_position == 0:\n",
    "        real_pnl += position*(trade_price-ave_price)\n",
    "        ave_price = 0\n",
    "        unreal_pnl = 0\n",
    "        \n",
    "    # reverse position \n",
    "    else: \n",
    "        real_pnl += position*(trade_price-ave_price)\n",
    "        ave_price = trade_price\n",
    "        unreal_pnl = new_position*(trade_price-ave_price)\n",
    "\n",
    "    position=new_position\n",
    "\n",
    "    return unreal_pnl,real_pnl,position,ave_price\n"
   ]
  },
  {
   "cell_type": "code",
   "execution_count": 55,
   "metadata": {},
   "outputs": [],
   "source": [
    "\n",
    "a=[['s',22,101],\n",
    "  ['b',2,4],\n",
    "  ['s',4,2]]\n"
   ]
  },
  {
   "cell_type": "code",
   "execution_count": 56,
   "metadata": {},
   "outputs": [],
   "source": [
    "trade = pd.DataFrame( columns = [ 'unreal_pnl','real_pnl','position','ave_price'], index=[i for i in range(len(a))] )"
   ]
  },
  {
   "cell_type": "code",
   "execution_count": 57,
   "metadata": {},
   "outputs": [
    {
     "data": {
      "text/html": [
       "<div>\n",
       "<style scoped>\n",
       "    .dataframe tbody tr th:only-of-type {\n",
       "        vertical-align: middle;\n",
       "    }\n",
       "\n",
       "    .dataframe tbody tr th {\n",
       "        vertical-align: top;\n",
       "    }\n",
       "\n",
       "    .dataframe thead th {\n",
       "        text-align: right;\n",
       "    }\n",
       "</style>\n",
       "<table border=\"1\" class=\"dataframe\">\n",
       "  <thead>\n",
       "    <tr style=\"text-align: right;\">\n",
       "      <th></th>\n",
       "      <th>unreal_pnl</th>\n",
       "      <th>real_pnl</th>\n",
       "      <th>position</th>\n",
       "      <th>ave_price</th>\n",
       "    </tr>\n",
       "  </thead>\n",
       "  <tbody>\n",
       "    <tr>\n",
       "      <th>0</th>\n",
       "      <td>0</td>\n",
       "      <td>56</td>\n",
       "      <td>-3</td>\n",
       "      <td>101</td>\n",
       "    </tr>\n",
       "    <tr>\n",
       "      <th>1</th>\n",
       "      <td>97</td>\n",
       "      <td>-138</td>\n",
       "      <td>-1</td>\n",
       "      <td>101</td>\n",
       "    </tr>\n",
       "    <tr>\n",
       "      <th>2</th>\n",
       "      <td>99</td>\n",
       "      <td>-138</td>\n",
       "      <td>-5</td>\n",
       "      <td>21.8</td>\n",
       "    </tr>\n",
       "  </tbody>\n",
       "</table>\n",
       "</div>"
      ],
      "text/plain": [
       "  unreal_pnl real_pnl position ave_price\n",
       "0          0       56       -3       101\n",
       "1         97     -138       -1       101\n",
       "2         99     -138       -5      21.8"
      ]
     },
     "execution_count": 57,
     "metadata": {},
     "output_type": "execute_result"
    }
   ],
   "source": [
    "\n",
    "real_pnl=32.249997\n",
    "position=19\n",
    "ave_price=99.75\n",
    "for i in range(len(a)):\n",
    "    [order_side,order_quant,trade_price]=a[i]\n",
    "    [unreal_pnl,real_pnl,position,ave_price]=trade_statistics(real_pnl,position,ave_price,order_side,order_quant,trade_price)\n",
    "    trade.iloc[i] = [unreal_pnl,real_pnl,position,ave_price]\n",
    "\n",
    "trade"
   ]
  },
  {
   "cell_type": "code",
   "execution_count": null,
   "metadata": {},
   "outputs": [],
   "source": []
  },
  {
   "cell_type": "code",
   "execution_count": null,
   "metadata": {},
   "outputs": [],
   "source": []
  },
  {
   "cell_type": "code",
   "execution_count": 49,
   "metadata": {},
   "outputs": [],
   "source": [
    "\n",
    "index=[i for i in range(10)]\n",
    "tds=trade_statistics(index)"
   ]
  },
  {
   "cell_type": "code",
   "execution_count": 43,
   "metadata": {},
   "outputs": [],
   "source": [
    "for i in range(len(a)):\n",
    "    [order_side,order_quant,trade_price]=a[i]\n",
    "    tds.statistics(order_side,order_quant,trade_price)\n"
   ]
  },
  {
   "cell_type": "code",
   "execution_count": 48,
   "metadata": {},
   "outputs": [],
   "source": [
    "class trade_statistics:\n",
    "    \n",
    "    def __init__(self,t_count):\n",
    "        self.count=0\n",
    "        self.position =0\n",
    "        self.real_pnl=0\n",
    "        self.ave_price=0\n",
    "        self.real_pnls=pd.Series(index=t_count)\n",
    "        self.unreal_pnls=pd.Series(index=t_count)\n",
    "   \n",
    "    def statistics(self,order_side,order_quant,trade_price):\n",
    "    \n",
    "        if order_side == 'b':\n",
    "            flag=1\n",
    "        if order_side == 's':\n",
    "            flag=-1\n",
    "\n",
    "        new_position=self.position+flag*order_quant\n",
    "\n",
    "        # sign of position not change (short still short, long still long)\n",
    "        if self.position*new_position>0:\n",
    "\n",
    "            # position decrease\n",
    "            if abs(new_position)<abs(self.position):\n",
    "                self.real_pnl += order_quant*(trade_price-self.ave_price)\n",
    "                unreal_pnl=new_position*(trade_price-self.ave_price)\n",
    "            #position increase\n",
    "            else:\n",
    "                self.ave_price=(self.position*self.ave_price+flag*order_quant*trade_price)/new_position\n",
    "                unreal_pnl=new_position*(trade_price-self.ave_price)\n",
    "\n",
    "        # flat position  \n",
    "        elif new_position == 0:\n",
    "            self.real_pnl += self.position*(trade_price-self.ave_price)\n",
    "            self.ave_price = 0\n",
    "            unreal_pnl = 0\n",
    "\n",
    "        # reverse position \n",
    "        else: \n",
    "            self.real_pnl +=self. position*(trade_price-self.ave_price)\n",
    "            self.ave_price = trade_price\n",
    "            unreal_pnl = new_position*(trade_price-self.ave_price)\n",
    "\n",
    "\n",
    "        self.real_pnls[self.count]=self.real_pnl\n",
    "        self.unreal_pnls[self.count]=unreal_pnl        \n",
    "        self.count+=1 \n",
    "        print(unreal_pnl  ,real_pnl,self.position, ave_price)\n",
    "        "
   ]
  },
  {
   "cell_type": "code",
   "execution_count": null,
   "metadata": {},
   "outputs": [],
   "source": []
  },
  {
   "cell_type": "code",
   "execution_count": null,
   "metadata": {},
   "outputs": [],
   "source": [
    "tds=trade_statistics(trading_day.index)\n",
    "\n",
    "if live_order :    \n",
    "    success=0\n",
    "    if ( order_side == 'b' ) and ( last_price <= live_order_price ) :  \n",
    "        success=1\n",
    "    if ( order_side == 's' ) and ( last_price >= live_order_price ) :\n",
    "        success=1\n",
    "    if success:\n",
    "        tds.statistics(order_side,live_order_price,live_order_quantity)\n",
    "        record_trade()\n",
    "        live_order = False\n",
    "        live_order_price = 0.0\n",
    "        live_order_quantity = 0.0\n",
    "\n",
    "\n",
    "if order_side == 'b' and fair_value >= ask_price:\n",
    "    trade_type='Agg'\n",
    "    new_trade_price = ask_price\n",
    "       \n",
    "elif order_side == 's' and fair_value <= bid_price:\n",
    "    trade_type='Agg'\n",
    "    new_trade_price = bid_price\n",
    "    \n",
    "else:\n",
    "    trade_type='Pas'\n",
    "    live_order_price = fair_value\n",
    "    live_order_quantity = calc_order_quantity()\n",
    "    live_order = True\n",
    "    \n",
    "if trade_type=='Agg' \n",
    "    new_order_quantity = calc_order_quantity( )        \n",
    "    tds.statistics(order_side, new_trade_price,new_order_quantity)\n",
    "    record_trade( )\n",
    "\n",
    "    live_order_quantity = 0.0\n",
    "    live_order_price = 0.0\n",
    "    live_order = False"
   ]
  },
  {
   "cell_type": "code",
   "execution_count": null,
   "metadata": {},
   "outputs": [],
   "source": []
  },
  {
   "cell_type": "code",
   "execution_count": null,
   "metadata": {},
   "outputs": [],
   "source": []
  }
 ],
 "metadata": {
  "kernelspec": {
   "display_name": "Python 3",
   "language": "python",
   "name": "python3"
  },
  "language_info": {
   "codemirror_mode": {
    "name": "ipython",
    "version": 3
   },
   "file_extension": ".py",
   "mimetype": "text/x-python",
   "name": "python",
   "nbconvert_exporter": "python",
   "pygments_lexer": "ipython3",
   "version": "3.7.3"
  }
 },
 "nbformat": 4,
 "nbformat_minor": 2
}
